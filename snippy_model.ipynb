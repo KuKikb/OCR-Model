{
 "cells": [
  {
   "cell_type": "markdown",
   "metadata": {},
   "source": [
    "# 1. Install Dependencies and Setup"
   ]
  },
  {
   "cell_type": "code",
   "execution_count": 39,
   "metadata": {},
   "outputs": [],
   "source": [
    "import tensorflow as tf\n",
    "import os"
   ]
  },
  {
   "cell_type": "code",
   "execution_count": 40,
   "metadata": {},
   "outputs": [],
   "source": [
    "# Avoid OOM errors by setting GPU Memory Consumption Growth\n",
    "gpus = tf.config.experimental.list_physical_devices('GPU')\n",
    "for gpu in gpus: \n",
    "    tf.config.experimental.set_memory_growth(gpu, True)"
   ]
  },
  {
   "cell_type": "code",
   "execution_count": 41,
   "metadata": {
    "tags": []
   },
   "outputs": [
    {
     "data": {
      "text/plain": [
       "[PhysicalDevice(name='/physical_device:GPU:0', device_type='GPU')]"
      ]
     },
     "execution_count": 41,
     "metadata": {},
     "output_type": "execute_result"
    }
   ],
   "source": [
    "tf.config.list_physical_devices('GPU')"
   ]
  },
  {
   "cell_type": "code",
   "execution_count": 42,
   "metadata": {},
   "outputs": [],
   "source": [
    "data_dir = r\"D:\\snippy\\data\" "
   ]
  },
  {
   "cell_type": "markdown",
   "metadata": {},
   "source": [
    "# 2. Load Data"
   ]
  },
  {
   "cell_type": "code",
   "execution_count": 43,
   "metadata": {},
   "outputs": [
    {
     "name": "stdout",
     "output_type": "stream",
     "text": [
      "Found 156 files belonging to 52 classes.\n",
      "Using 155 files for training.\n",
      "Found 156 files belonging to 52 classes.\n",
      "Using 16 files for training.\n"
     ]
    }
   ],
   "source": [
    "BATCH_SIZE = 26\n",
    "base_dir = r\"D:\\snippy\\data\" \n",
    "\n",
    "train_ = tf.keras.preprocessing.image_dataset_from_directory(\n",
    "    base_dir,\n",
    "    labels='inferred',\n",
    "    label_mode=\"int\",\n",
    "    batch_size=BATCH_SIZE,\n",
    "    shuffle=True,\n",
    "    seed=123,\n",
    "    validation_split=0.01,\n",
    "    subset=\"training\"\n",
    "    )\n",
    "\n",
    "test_datagen=tf.keras.preprocessing.image_dataset_from_directory(\n",
    "    base_dir,\n",
    "    labels='inferred',\n",
    "    label_mode=\"int\",\n",
    "    batch_size=BATCH_SIZE,\n",
    "    shuffle=True,\n",
    "    seed=123,\n",
    "    validation_split=0.9,\n",
    "    subset=\"training\"\n",
    "    )\n",
    "\n"
   ]
  },
  {
   "cell_type": "markdown",
   "metadata": {},
   "source": [
    "# 3. Scale Data"
   ]
  },
  {
   "cell_type": "code",
   "execution_count": 44,
   "metadata": {},
   "outputs": [],
   "source": [
    "#Normalising the image\n",
    "\n",
    "train_ = 0train_.map(lambda x,y: (x/255, y))"
   ]
  },
  {
   "cell_type": "code",
   "execution_count": 23,
   "metadata": {},
   "outputs": [
    {
     "data": {
      "text/plain": [
       "<MapDataset element_spec=(TensorSpec(shape=(None, 256, 256, 3), dtype=tf.float32, name=None), TensorSpec(shape=(None,), dtype=tf.int32, name=None))>"
      ]
     },
     "execution_count": 23,
     "metadata": {},
     "output_type": "execute_result"
    }
   ],
   "source": [
    "\n",
    "train_"
   ]
  },
  {
   "cell_type": "code",
   "execution_count": 45,
   "metadata": {},
   "outputs": [],
   "source": [
    "import cv2\n",
    "import numpy as np\n",
    "from matplotlib import pyplot as plt"
   ]
  },
  {
   "cell_type": "markdown",
   "metadata": {},
   "source": [
    "# 4. Build Deep Learning Model"
   ]
  },
  {
   "cell_type": "code",
   "execution_count": 46,
   "metadata": {},
   "outputs": [],
   "source": [
    "from tensorflow.keras.models import Sequential\n",
    "from tensorflow.keras.layers import Conv2D, MaxPooling2D, Dense, Flatten"
   ]
  },
  {
   "cell_type": "code",
   "execution_count": 48,
   "metadata": {},
   "outputs": [],
   "source": [
    "model = Sequential()"
   ]
  },
  {
   "cell_type": "code",
   "execution_count": 49,
   "metadata": {},
   "outputs": [],
   "source": [
    "model.add(Conv2D(16, (3,3), 1, activation='relu', input_shape=(256,256,3)))\n",
    "model.add(MaxPooling2D())\n",
    "\n",
    "model.add(Conv2D(32, (3,3), 1, activation='relu'))\n",
    "model.add(MaxPooling2D())\n",
    "\n",
    "model.add(Conv2D(16, (3,3), 1, activation='relu'))\n",
    "model.add(MaxPooling2D())\n",
    "\n",
    "model.add(Flatten())\n",
    "\n",
    "model.add(Dense(256, activation='relu'))\n",
    "model.add(Dense(52, activation='softmax'))"
   ]
  },
  {
   "cell_type": "code",
   "execution_count": 50,
   "metadata": {},
   "outputs": [],
   "source": [
    "model.compile('adam', loss='sparse_categorical_crossentropy', metrics=['accuracy'])"
   ]
  },
  {
   "cell_type": "code",
   "execution_count": 51,
   "metadata": {
    "tags": []
   },
   "outputs": [
    {
     "name": "stdout",
     "output_type": "stream",
     "text": [
      "Model: \"sequential_2\"\n",
      "_________________________________________________________________\n",
      " Layer (type)                Output Shape              Param #   \n",
      "=================================================================\n",
      " conv2d_7 (Conv2D)           (None, 254, 254, 16)      448       \n",
      "                                                                 \n",
      " max_pooling2d_6 (MaxPooling  (None, 127, 127, 16)     0         \n",
      " 2D)                                                             \n",
      "                                                                 \n",
      " conv2d_8 (Conv2D)           (None, 125, 125, 32)      4640      \n",
      "                                                                 \n",
      " max_pooling2d_7 (MaxPooling  (None, 62, 62, 32)       0         \n",
      " 2D)                                                             \n",
      "                                                                 \n",
      " conv2d_9 (Conv2D)           (None, 60, 60, 16)        4624      \n",
      "                                                                 \n",
      " max_pooling2d_8 (MaxPooling  (None, 30, 30, 16)       0         \n",
      " 2D)                                                             \n",
      "                                                                 \n",
      " flatten_2 (Flatten)         (None, 14400)             0         \n",
      "                                                                 \n",
      " dense_4 (Dense)             (None, 256)               3686656   \n",
      "                                                                 \n",
      " dense_5 (Dense)             (None, 52)                13364     \n",
      "                                                                 \n",
      "=================================================================\n",
      "Total params: 3,709,732\n",
      "Trainable params: 3,709,732\n",
      "Non-trainable params: 0\n",
      "_________________________________________________________________\n"
     ]
    }
   ],
   "source": [
    "model.summary()"
   ]
  },
  {
   "cell_type": "markdown",
   "metadata": {},
   "source": [
    "# 4. Training the model"
   ]
  },
  {
   "cell_type": "code",
   "execution_count": 52,
   "metadata": {},
   "outputs": [],
   "source": [
    "logdir='logs'"
   ]
  },
  {
   "cell_type": "code",
   "execution_count": 53,
   "metadata": {},
   "outputs": [],
   "source": [
    "tensorboard_callback = tf.keras.callbacks.TensorBoard(log_dir=logdir)"
   ]
  },
  {
   "cell_type": "code",
   "execution_count": 54,
   "metadata": {},
   "outputs": [
    {
     "name": "stdout",
     "output_type": "stream",
     "text": [
      "Epoch 1/15\n",
      "6/6 - 2s - loss: 4.3020 - accuracy: 0.0258 - val_loss: 39.5812 - val_accuracy: 0.1250 - 2s/epoch - 285ms/step\n",
      "Epoch 2/15\n",
      "6/6 - 1s - loss: 3.8097 - accuracy: 0.2065 - val_loss: 25.3012 - val_accuracy: 0.3750 - 514ms/epoch - 86ms/step\n",
      "Epoch 3/15\n",
      "6/6 - 1s - loss: 3.3668 - accuracy: 0.3355 - val_loss: 49.4115 - val_accuracy: 0.6250 - 538ms/epoch - 90ms/step\n",
      "Epoch 4/15\n",
      "6/6 - 0s - loss: 2.3597 - accuracy: 0.5032 - val_loss: 14.7438 - val_accuracy: 0.8125 - 473ms/epoch - 79ms/step\n",
      "Epoch 5/15\n",
      "6/6 - 0s - loss: 1.1223 - accuracy: 0.7290 - val_loss: 2.5628 - val_accuracy: 0.8125 - 472ms/epoch - 79ms/step\n",
      "Epoch 6/15\n",
      "6/6 - 0s - loss: 0.4025 - accuracy: 0.8839 - val_loss: 0.0000e+00 - val_accuracy: 1.0000 - 481ms/epoch - 80ms/step\n",
      "Epoch 7/15\n",
      "6/6 - 0s - loss: 0.2957 - accuracy: 0.9290 - val_loss: 0.0000e+00 - val_accuracy: 1.0000 - 488ms/epoch - 81ms/step\n",
      "Epoch 8/15\n",
      "6/6 - 0s - loss: 0.1484 - accuracy: 0.9548 - val_loss: 0.0000e+00 - val_accuracy: 1.0000 - 489ms/epoch - 82ms/step\n",
      "Epoch 9/15\n",
      "6/6 - 0s - loss: 0.0885 - accuracy: 0.9742 - val_loss: 0.0000e+00 - val_accuracy: 1.0000 - 483ms/epoch - 80ms/step\n",
      "Epoch 10/15\n",
      "6/6 - 0s - loss: 0.0659 - accuracy: 0.9742 - val_loss: 0.0000e+00 - val_accuracy: 1.0000 - 459ms/epoch - 77ms/step\n",
      "Epoch 11/15\n",
      "6/6 - 0s - loss: 0.0237 - accuracy: 0.9935 - val_loss: 0.0000e+00 - val_accuracy: 1.0000 - 444ms/epoch - 74ms/step\n",
      "Epoch 12/15\n",
      "6/6 - 0s - loss: 0.0326 - accuracy: 0.9871 - val_loss: 0.0000e+00 - val_accuracy: 1.0000 - 476ms/epoch - 79ms/step\n",
      "Epoch 13/15\n",
      "6/6 - 1s - loss: 0.0063 - accuracy: 1.0000 - val_loss: 0.0000e+00 - val_accuracy: 1.0000 - 530ms/epoch - 88ms/step\n",
      "Epoch 14/15\n",
      "6/6 - 0s - loss: 0.0052 - accuracy: 1.0000 - val_loss: 0.0000e+00 - val_accuracy: 1.0000 - 484ms/epoch - 81ms/step\n",
      "Epoch 15/15\n",
      "6/6 - 0s - loss: 0.0129 - accuracy: 0.9935 - val_loss: 0.0000e+00 - val_accuracy: 1.0000 - 496ms/epoch - 83ms/step\n"
     ]
    }
   ],
   "source": [
    "hist = model.fit(train_, epochs=15, verbose=2, validation_data=test_datagen)"
   ]
  },
  {
   "cell_type": "markdown",
   "metadata": {},
   "source": [
    "# 5. Testing the model"
   ]
  },
  {
   "cell_type": "code",
   "execution_count": 55,
   "metadata": {},
   "outputs": [
    {
     "name": "stdout",
     "output_type": "stream",
     "text": [
      "1/1 [==============================] - 0s 162ms/step - loss: 0.0000e+00 - accuracy: 1.0000\n"
     ]
    },
    {
     "data": {
      "text/plain": [
       "[0.0, 1.0]"
      ]
     },
     "execution_count": 55,
     "metadata": {},
     "output_type": "execute_result"
    }
   ],
   "source": [
    "model.evaluate(test_datagen)"
   ]
  },
  {
   "cell_type": "code",
   "execution_count": 29,
   "metadata": {},
   "outputs": [
    {
     "name": "stdout",
     "output_type": "stream",
     "text": [
      "1/1 [==============================] - 0s 295ms/step\n"
     ]
    },
    {
     "data": {
      "text/plain": [
       "array([1.85284262e-16, 9.02994634e-06, 7.40823097e-11, 4.88441572e-07,\n",
       "       1.37116345e-08, 2.75862133e-09, 4.72247658e-11, 8.55709823e-06,\n",
       "       6.65696526e-11, 3.77412251e-12, 1.55484486e-10, 9.37053495e-13,\n",
       "       1.17793969e-10, 8.30072344e-10, 2.70516165e-09, 1.45085562e-06,\n",
       "       7.72611905e-11, 9.99980330e-01, 4.64145107e-13, 5.54959594e-12,\n",
       "       4.32812965e-14, 3.44165126e-12, 3.83542850e-12, 4.10425685e-08,\n",
       "       1.02211642e-10, 8.45441939e-10, 5.54250873e-12, 5.34300590e-11,\n",
       "       7.56395113e-10, 1.80081788e-15, 3.22217919e-09, 1.09336910e-14,\n",
       "       3.24789754e-16, 1.80015107e-12, 4.80644076e-08, 4.68989183e-15,\n",
       "       3.87240107e-09, 9.65725833e-10, 2.23613395e-14, 4.63197276e-12,\n",
       "       8.29642518e-12, 3.53974523e-11, 8.68265515e-10, 4.57562344e-09,\n",
       "       2.69197331e-10, 1.65345744e-14, 3.93184825e-11, 1.08925935e-08,\n",
       "       1.24250887e-10, 3.50641011e-14, 3.18672977e-09, 3.98845991e-11],\n",
       "      dtype=float32)"
      ]
     },
     "execution_count": 29,
     "metadata": {},
     "output_type": "execute_result"
    }
   ],
   "source": [
    "\n",
    "y = model.predict(test_datagen)\n",
    "np.argmax(y[9])\n",
    "y[8]\n"
   ]
  },
  {
   "cell_type": "code",
   "execution_count": 33,
   "metadata": {},
   "outputs": [
    {
     "name": "stdout",
     "output_type": "stream",
     "text": [
      "1/1 [==============================] - 1s 522ms/step\n"
     ]
    },
    {
     "data": {
      "text/plain": [
       "5"
      ]
     },
     "execution_count": 33,
     "metadata": {},
     "output_type": "execute_result"
    }
   ],
   "source": [
    "img = cv2.imread(r\"D:\\snippy\\data\\F\\6.png\")\n",
    "resize = tf.image.resize(img, (256,256))\n",
    "yhat = model.predict(np.expand_dims(resize/255, 0))\n",
    "yhat\n",
    "np.argmax(yhat)"
   ]
  },
  {
   "cell_type": "markdown",
   "metadata": {},
   "source": [
    "# 6. Performance"
   ]
  },
  {
   "cell_type": "code",
   "execution_count": 56,
   "metadata": {},
   "outputs": [
    {
     "data": {
      "image/png": "[encoded data removed]",
      "text/plain": [
       "<Figure size 640x480 with 1 Axes>"
      ]
     },
     "metadata": {},
     "output_type": "display_data"
    }
   ],
   "source": [
    "fig = plt.figure()\n",
    "plt.plot(hist.history['loss'], color='teal', label='loss')\n",
    "plt.plot(hist.history['val_loss'], color='orange', label='val_loss')\n",
    "fig.suptitle('Loss', fontsize=20)\n",
    "plt.legend(loc=\"upper left\")\n",
    "plt.show()"
   ]
  },
  {
   "cell_type": "code",
   "execution_count": 57,
   "metadata": {},
   "outputs": [
    {
     "data": {
      "image/png": "[encoded data removed]",
      "text/plain": [
       "<Figure size 640x480 with 1 Axes>"
      ]
     },
     "metadata": {},
     "output_type": "display_data"
    }
   ],
   "source": [
    "fig = plt.figure()\n",
    "plt.plot(hist.history['accuracy'], color='teal', label='accuracy')\n",
    "plt.plot(hist.history['val_accuracy'], color='orange', label='val_accuracy')\n",
    "fig.suptitle('Accuracy', fontsize=20)\n",
    "plt.legend(loc=\"upper left\")\n",
    "plt.show()"
   ]
  },
  {
   "cell_type": "markdown",
   "metadata": {},
   "source": [
    "# 7. Saving the model"
   ]
  },
  {
   "cell_type": "code",
   "execution_count": 68,
   "metadata": {},
   "outputs": [],
   "source": [
    "model.save(os.path.join('models','snippyclassifier.h5'))"
   ]
  },
  {
   "cell_type": "code",
   "execution_count": null,
   "metadata": {},
   "outputs": [],
   "source": [
    "from tensorflow.keras.models import load_model\n",
    "\n",
    "model_path = r\"D:\\snippy\\models\\snippyclassifier.h5\""
   ]
  }
 ],
 "metadata": {
  "kernelspec": {
   "display_name": "Python 3.10.8 64-bit",
   "language": "python",
   "name": "python3"
  },
  "language_info": {
   "codemirror_mode": {
    "name": "ipython",
    "version": 3
   },
   "file_extension": ".py",
   "mimetype": "text/x-python",
   "name": "python",
   "nbconvert_exporter": "python",
   "pygments_lexer": "ipython3",
   "version": "3.10.8"
  },
  "vscode": {
   "interpreter": {
    "hash": "7524473d8d1adf6194c9b4ca3b2e0801103455cd93279de9056e19ffc76686b2"
   }
  }
 },
 "nbformat": 4,
 "nbformat_minor": 4
}
